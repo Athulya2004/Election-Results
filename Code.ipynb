{
 "cells": [
  {
   "cell_type": "code",
   "execution_count": 1,
   "metadata": {},
   "outputs": [],
   "source": [
    "import requests\n",
    "from bs4 import BeautifulSoup\n",
    "import pandas as pd\n",
    "\n",
    "url = \"https://results.eci.gov.in/PcResultGenJune2024/index.htm\"\n",
    "\n",
    "response = requests.get(url)\n",
    "soup = BeautifulSoup(response.content, 'html.parser')\n",
    "\n",
    "party_results = []\n",
    "for row in soup.select('table tr'):\n",
    "    cols = row.find_all('td')\n",
    "    if len(cols) > 1:\n",
    "        party_results.append({\n",
    "            'party': cols[0].text.strip(),\n",
    "            'won': cols[1].text.strip(),\n",
    "            'leading': cols[2].text.strip(),\n",
    "            'total': cols[3].text.strip()\n",
    "        })\n",
    "\n",
    "df_party_results = pd.DataFrame(party_results)\n",
    "df_party_results.to_csv('party_results.csv', index=False)\n"
   ]
  }
 ],
 "metadata": {
  "kernelspec": {
   "display_name": "Python 3",
   "language": "python",
   "name": "python3"
  },
  "language_info": {
   "codemirror_mode": {
    "name": "ipython",
    "version": 3
   },
   "file_extension": ".py",
   "mimetype": "text/x-python",
   "name": "python",
   "nbconvert_exporter": "python",
   "pygments_lexer": "ipython3",
   "version": "3.11.9"
  }
 },
 "nbformat": 4,
 "nbformat_minor": 2
}
